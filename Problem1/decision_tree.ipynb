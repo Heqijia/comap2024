{
 "cells": [
  {
   "cell_type": "code",
   "execution_count": 7,
   "metadata": {},
   "outputs": [
    {
     "data": {
      "text/html": [
       "<div>\n",
       "<style scoped>\n",
       "    .dataframe tbody tr th:only-of-type {\n",
       "        vertical-align: middle;\n",
       "    }\n",
       "\n",
       "    .dataframe tbody tr th {\n",
       "        vertical-align: top;\n",
       "    }\n",
       "\n",
       "    .dataframe thead th {\n",
       "        text-align: right;\n",
       "    }\n",
       "</style>\n",
       "<table border=\"1\" class=\"dataframe\">\n",
       "  <thead>\n",
       "    <tr style=\"text-align: right;\">\n",
       "      <th></th>\n",
       "      <th>Unnamed: 0</th>\n",
       "      <th>match_id</th>\n",
       "      <th>p1_ace</th>\n",
       "      <th>p1_winner</th>\n",
       "      <th>p1_double_fault</th>\n",
       "      <th>p1_unf_err</th>\n",
       "      <th>p1_net_pt</th>\n",
       "      <th>p1_server</th>\n",
       "      <th>player1_strength</th>\n",
       "      <th>p1_distance_run_normal</th>\n",
       "      <th>player1_dist</th>\n",
       "      <th>p1_victor</th>\n",
       "    </tr>\n",
       "  </thead>\n",
       "  <tbody>\n",
       "    <tr>\n",
       "      <th>0</th>\n",
       "      <td>0</td>\n",
       "      <td>2023-wimbledon-1301</td>\n",
       "      <td>0</td>\n",
       "      <td>0</td>\n",
       "      <td>0</td>\n",
       "      <td>1</td>\n",
       "      <td>0</td>\n",
       "      <td>1</td>\n",
       "      <td>0.0</td>\n",
       "      <td>-0.593118</td>\n",
       "      <td>0.433526</td>\n",
       "      <td>0</td>\n",
       "    </tr>\n",
       "    <tr>\n",
       "      <th>1</th>\n",
       "      <td>1</td>\n",
       "      <td>2023-wimbledon-1301</td>\n",
       "      <td>0</td>\n",
       "      <td>0</td>\n",
       "      <td>0</td>\n",
       "      <td>0</td>\n",
       "      <td>0</td>\n",
       "      <td>1</td>\n",
       "      <td>0.5</td>\n",
       "      <td>-0.648485</td>\n",
       "      <td>0.425447</td>\n",
       "      <td>1</td>\n",
       "    </tr>\n",
       "  </tbody>\n",
       "</table>\n",
       "</div>"
      ],
      "text/plain": [
       "   Unnamed: 0             match_id  p1_ace  p1_winner  p1_double_fault  \\\n",
       "0           0  2023-wimbledon-1301       0          0                0   \n",
       "1           1  2023-wimbledon-1301       0          0                0   \n",
       "\n",
       "   p1_unf_err  p1_net_pt  p1_server  player1_strength  p1_distance_run_normal  \\\n",
       "0           1          0          1               0.0               -0.593118   \n",
       "1           0          0          1               0.5               -0.648485   \n",
       "\n",
       "   player1_dist  p1_victor  \n",
       "0      0.433526          0  \n",
       "1      0.425447          1  "
      ]
     },
     "execution_count": 7,
     "metadata": {},
     "output_type": "execute_result"
    }
   ],
   "source": [
    "import pandas as pd\n",
    "df=pd.read_csv('./player_12.csv')\n",
    "df.head(2)"
   ]
  },
  {
   "cell_type": "code",
   "execution_count": 35,
   "metadata": {},
   "outputs": [],
   "source": [
    "from sklearn.tree import DecisionTreeClassifier\n",
    "from sklearn.model_selection import train_test_split\n",
    "from sklearn.metrics import accuracy_score, classification_report\n",
    "import pandas as pd\n",
    "\n",
    "\n",
    "X = df.iloc[:, 2:-1]  # 所有列除了最后一列是特征\n",
    "y = df.iloc[:, -1]   # 最后一列是目标标签\n",
    "\n",
    "# 将数据分割为训练集和测试集\n",
    "X_train, X_test, y_train, y_test = train_test_split(X, y, test_size=0.2, random_state=41)\n"
   ]
  },
  {
   "cell_type": "markdown",
   "metadata": {},
   "source": []
  },
  {
   "cell_type": "code",
   "execution_count": 36,
   "metadata": {},
   "outputs": [
    {
     "name": "stdout",
     "output_type": "stream",
     "text": [
      "Accuracy: 0.75\n",
      "Classification Report:\n",
      "              precision    recall  f1-score   support\n",
      "\n",
      "           0       0.74      0.77      0.76      1467\n",
      "           1       0.76      0.73      0.74      1447\n",
      "\n",
      "    accuracy                           0.75      2914\n",
      "   macro avg       0.75      0.75      0.75      2914\n",
      "weighted avg       0.75      0.75      0.75      2914\n",
      "\n"
     ]
    }
   ],
   "source": [
    "# 创建 DecisionTreeClassifier 模型\n",
    "clf = DecisionTreeClassifier(random_state=42)\n",
    "\n",
    "# 在训练集上训练模型\n",
    "clf.fit(X_train, y_train)\n",
    "\n",
    "# 在测试集上进行预测\n",
    "y_pred = clf.predict(X_test)\n",
    "\n",
    "# 计算准确性\n",
    "accuracy = accuracy_score(y_test, y_pred)\n",
    "print(f\"Accuracy: {accuracy:.2f}\")\n",
    "\n",
    "# 打印分类报告\n",
    "print(\"Classification Report:\")\n",
    "print(classification_report(y_test, y_pred))"
   ]
  },
  {
   "cell_type": "code",
   "execution_count": 50,
   "metadata": {},
   "outputs": [
    {
     "name": "stdout",
     "output_type": "stream",
     "text": [
      "Accuracy: 0.78\n",
      "Classification Report:\n",
      "              precision    recall  f1-score   support\n",
      "\n",
      "           0       0.78      0.79      0.78      1466\n",
      "           1       0.78      0.77      0.77      1436\n",
      "\n",
      "    accuracy                           0.78      2902\n",
      "   macro avg       0.78      0.78      0.78      2902\n",
      "weighted avg       0.78      0.78      0.78      2902\n",
      "\n"
     ]
    }
   ],
   "source": [
    "from sklearn.ensemble import RandomForestClassifier\n",
    "from sklearn.model_selection import train_test_split\n",
    "from sklearn.metrics import accuracy_score, classification_report\n",
    "import pandas as pd\n",
    "\n",
    "# 假设你的数据是一个 pandas DataFrame，包含目标标签和特征\n",
    "# df 是你的 DataFrame，最后一列是目标标签，其余列是特征\n",
    "# 这里的示例数据是随机生成的，请替换为你的实际数据\n",
    "from sklearn.datasets import make_classification\n",
    "df_cleaned=df.dropna()\n",
    "# 将数据分割为特征 (X) 和目标标签 (y)\n",
    "X = df_cleaned.iloc[:, 2:-1]  # 所有列除了最后一列是特征\n",
    "y = df_cleaned.iloc[:, -1]   # 最后一列是目标标签\n",
    "\n",
    "# 将数据分割为训练集和测试集\n",
    "X_train, X_test, y_train, y_test = train_test_split(X, y, test_size=0.2, random_state=41)\n",
    "\n",
    "# 创建 RandomForestClassifier 模型\n",
    "clf = RandomForestClassifier(random_state=42,bootstrap=True,n_estimators=100)\n",
    "\n",
    "# 在训练集上训练模型\n",
    "clf.fit(X_train, y_train)\n",
    "\n",
    "# 在测试集上进行预测\n",
    "y_pred = clf.predict(X_test)\n",
    "\n",
    "# 计算准确性\n",
    "accuracy = accuracy_score(y_test, y_pred)\n",
    "print(f\"Accuracy: {accuracy:.2f}\")\n",
    "\n",
    "# 打印分类报告\n",
    "print(\"Classification Report:\")\n",
    "print(classification_report(y_test, y_pred))\n"
   ]
  },
  {
   "cell_type": "code",
   "execution_count": null,
   "metadata": {},
   "outputs": [],
   "source": []
  },
  {
   "cell_type": "code",
   "execution_count": null,
   "metadata": {},
   "outputs": [],
   "source": []
  },
  {
   "cell_type": "code",
   "execution_count": null,
   "metadata": {},
   "outputs": [],
   "source": []
  },
  {
   "cell_type": "code",
   "execution_count": null,
   "metadata": {},
   "outputs": [],
   "source": []
  },
  {
   "cell_type": "code",
   "execution_count": null,
   "metadata": {},
   "outputs": [],
   "source": []
  }
 ],
 "metadata": {
  "kernelspec": {
   "display_name": "base",
   "language": "python",
   "name": "python3"
  },
  "language_info": {
   "codemirror_mode": {
    "name": "ipython",
    "version": 3
   },
   "file_extension": ".py",
   "mimetype": "text/x-python",
   "name": "python",
   "nbconvert_exporter": "python",
   "pygments_lexer": "ipython3",
   "version": "3.10.9"
  }
 },
 "nbformat": 4,
 "nbformat_minor": 2
}
